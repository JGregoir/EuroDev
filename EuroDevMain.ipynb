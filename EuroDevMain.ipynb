{
 "cells": [
  {
   "cell_type": "code",
   "execution_count": 1,
   "metadata": {
    "collapsed": false
   },
   "outputs": [],
   "source": [
    "import numpy as np # linear algebra\n",
    "import pandas as pd # data processing, CSV file I/O (e.g. pd.read_csv)\n",
    "import matplotlib.pyplot as plt\n",
    "import seaborn as sns\n",
    "\n",
    "\n",
    "pd.set_option('display.max_rows', 10)\n",
    "pd.set_option('display.max_columns', 50)\n",
    "pd.set_option('display.width', 1000)\n",
    "\n",
    "%matplotlib inline\n",
    "\n",
    "\n",
    "document = pd.read_csv('input/Indicators.csv')\n",
    "\n",
    "#want to see all the countries listed in the document  \n",
    "document['CountryName'].unique()\n",
    "\n",
    "#Indicators that aren't countries \n",
    "list = ['Arab World', 'Caribbean small states', 'Central Europe and the Baltics',\n",
    " 'East Asia & Pacific (all income levels)',\n",
    " 'East Asia & Pacific (developing only)', 'Euro area',\n",
    " 'Europe & Central Asia (all income levels)',\n",
    " 'Europe & Central Asia (developing only)', 'European Union',\n",
    " 'Fragile and conflict affected situations',\n",
    " 'Heavily indebted poor countries (HIPC)', 'High income',\n",
    " 'High income: nonOECD', 'High income: OECD',\n",
    " 'Latin America & Caribbean (all income levels)',\n",
    " 'Latin America & Caribbean (developing only)',\n",
    " 'Least developed countries: UN classification', 'Low & middle income',\n",
    " 'Low income', 'Lower middle income',\n",
    " 'Middle East & North Africa (all income levels)',\n",
    " 'Middle East & North Africa (developing only)', 'Middle income',\n",
    " 'North America' 'OECD members' ,'Other small states',\n",
    " 'Pacific island small states', 'Small states', 'South Asia',\n",
    " 'Sub-Saharan Africa (all income levels)',\n",
    " 'Sub-Saharan Africa (developing only)' ,'Upper middle income' ,'World', 'North America', 'OECD members']\n",
    "\n",
    "EuroRel= ['OECD members','European Union','Euro area','Central Europe and the Baltics']"
   ]
  },
  {
   "cell_type": "code",
   "execution_count": 2,
   "metadata": {
    "collapsed": false
   },
   "outputs": [
    {
     "data": {
      "text/plain": [
       "(5656458, 6)"
      ]
     },
     "execution_count": 2,
     "metadata": {},
     "output_type": "execute_result"
    }
   ],
   "source": [
    "document.shape"
   ]
  }
 ],
 "metadata": {
  "anaconda-cloud": {},
  "kernelspec": {
   "display_name": "Python [Root]",
   "language": "python",
   "name": "Python [Root]"
  },
  "language_info": {
   "codemirror_mode": {
    "name": "ipython",
    "version": 3
   },
   "file_extension": ".py",
   "mimetype": "text/x-python",
   "name": "python",
   "nbconvert_exporter": "python",
   "pygments_lexer": "ipython3",
   "version": "3.5.2"
  }
 },
 "nbformat": 4,
 "nbformat_minor": 1
}
